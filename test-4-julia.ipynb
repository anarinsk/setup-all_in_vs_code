{
 "cells": [
  {
   "cell_type": "code",
   "execution_count": 1,
   "id": "corporate-boutique",
   "metadata": {},
   "outputs": [
    {
     "name": "stderr",
     "output_type": "stream",
     "text": [
      "\u001b[32m\u001b[1m   Updating\u001b[22m\u001b[39m registry at `/opt/julia/registries/General`\n",
      "######################################################################### 100.0%\n",
      "\u001b[32m\u001b[1m  Resolving\u001b[22m\u001b[39m package versions...\n",
      "\u001b[32m\u001b[1m  Installed\u001b[22m\u001b[39m InstantiateFromURL ─ v0.6.0\n",
      "\u001b[32m\u001b[1m  Installed\u001b[22m\u001b[39m Suppressor ───────── v0.2.0\n",
      "\u001b[32m\u001b[1m  Installed\u001b[22m\u001b[39m BinaryProvider ───── v0.5.10\n",
      "\u001b[32m\u001b[1m  Installed\u001b[22m\u001b[39m IniFile ──────────── v0.5.0\n",
      "\u001b[32m\u001b[1m  Installed\u001b[22m\u001b[39m HTTP ─────────────── v0.8.19\n",
      "\u001b[32m\u001b[1mUpdating\u001b[22m\u001b[39m `/opt/julia/environments/v1.5/Project.toml`\n",
      " \u001b[90m [43edad99] \u001b[39m\u001b[92m+ InstantiateFromURL v0.6.0\u001b[39m\n",
      "\u001b[32m\u001b[1mUpdating\u001b[22m\u001b[39m `/opt/julia/environments/v1.5/Manifest.toml`\n",
      " \u001b[90m [b99e7846] \u001b[39m\u001b[92m+ BinaryProvider v0.5.10\u001b[39m\n",
      " \u001b[90m [cd3eb016] \u001b[39m\u001b[92m+ HTTP v0.8.19\u001b[39m\n",
      " \u001b[90m [83e8ac13] \u001b[39m\u001b[92m+ IniFile v0.5.0\u001b[39m\n",
      " \u001b[90m [43edad99] \u001b[39m\u001b[92m+ InstantiateFromURL v0.6.0\u001b[39m\n",
      " \u001b[90m [fd094767] \u001b[39m\u001b[92m+ Suppressor v0.2.0\u001b[39m\n"
     ]
    }
   ],
   "source": [
    "] add InstantiateFromURL"
   ]
  },
  {
   "cell_type": "code",
   "execution_count": 1,
   "id": "closing-creature",
   "metadata": {},
   "outputs": [
    {
     "output_type": "stream",
     "name": "stderr",
     "text": [
      "┌ Info: Precompiling InstantiateFromURL [43edad99-fa64-5e4f-9937-1c09a410b73f]\n",
      "└ @ Base loading.jl:1278\n",
      "\u001b[32m\u001b[1mActivated\u001b[0m /home/jovyan/github-anari/setup-all*in*vs_code/Project.toml\u001b[39m\n",
      "\u001b[36m\u001b[1mInfo\u001b[0m Project name is quantecon-notebooks-julia, version is 0.8.0\u001b[39m\n"
     ]
    }
   ],
   "source": [
    "using InstantiateFromURL\n",
    "# optionally add arguments to force installation: instantiate = true, precompile = true\n",
    "github_project(\"QuantEcon/quantecon-notebooks-julia\", version = \"0.8.0\")"
   ]
  },
  {
   "cell_type": "code",
   "execution_count": 2,
   "id": "conscious-antique",
   "metadata": {},
   "outputs": [
    {
     "output_type": "execute_result",
     "data": {
      "text/plain": [
       "2"
      ]
     },
     "metadata": {},
     "execution_count": 2
    }
   ],
   "source": [
    "1+1"
   ]
  },
  {
   "cell_type": "code",
   "execution_count": null,
   "id": "stone-prospect",
   "metadata": {},
   "outputs": [],
   "source": []
  }
 ],
 "metadata": {
  "kernelspec": {
   "display_name": "Julia 1.5.3",
   "language": "julia",
   "name": "julia-1.5"
  },
  "language_info": {
   "file_extension": ".jl",
   "mimetype": "application/julia",
   "name": "julia",
   "version": "1.5.3"
  }
 },
 "nbformat": 4,
 "nbformat_minor": 5
}